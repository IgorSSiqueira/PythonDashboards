{
 "cells": [
  {
   "cell_type": "code",
   "execution_count": 59,
   "metadata": {},
   "outputs": [],
   "source": [
    "import dash\n",
    "from dash import html, dcc\n",
    "from dash.dependencies import Input, Output, State\n",
    "\n",
    "import pandas as pd\n",
    "import numpy as np\n",
    "\n",
    "import plotly.express as px\n",
    "import plotly.graph_objects as go\n",
    "import dash_bootstrap_components as dbc\n",
    "\n",
    "app = dash.Dash(__name__, suppress_callback_exceptions=True)\n",
    "app.scripts.config.serve_locally = True\n",
    "server = app.server "
   ]
  },
  {
   "cell_type": "code",
   "execution_count": 60,
   "metadata": {},
   "outputs": [
    {
     "name": "stdout",
     "output_type": "stream",
     "text": [
      "<class 'pandas.core.frame.DataFrame'>\n",
      "RangeIndex: 1000 entries, 0 to 999\n",
      "Data columns (total 17 columns):\n",
      " #   Column                   Non-Null Count  Dtype         \n",
      "---  ------                   --------------  -----         \n",
      " 0   Invoice ID               1000 non-null   object        \n",
      " 1   Branch                   1000 non-null   object        \n",
      " 2   City                     1000 non-null   object        \n",
      " 3   Customer type            1000 non-null   object        \n",
      " 4   Gender                   1000 non-null   object        \n",
      " 5   Product line             1000 non-null   object        \n",
      " 6   Unit price               1000 non-null   float64       \n",
      " 7   Quantity                 1000 non-null   int64         \n",
      " 8   Tax 5%                   1000 non-null   float64       \n",
      " 9   Total                    1000 non-null   float64       \n",
      " 10  Date                     1000 non-null   datetime64[ns]\n",
      " 11  Time                     1000 non-null   object        \n",
      " 12  Payment                  1000 non-null   object        \n",
      " 13  cogs                     1000 non-null   float64       \n",
      " 14  gross margin percentage  1000 non-null   float64       \n",
      " 15  gross income             1000 non-null   float64       \n",
      " 16  Rating                   1000 non-null   float64       \n",
      "dtypes: datetime64[ns](1), float64(7), int64(1), object(8)\n",
      "memory usage: 132.9+ KB\n"
     ]
    }
   ],
   "source": [
    "df_data = pd.read_csv('supermarket_sales.csv')\n",
    "df_data['Date'] = pd.to_datetime(df_data['Date'])\n",
    "df_data.info()"
   ]
  },
  {
   "cell_type": "code",
   "execution_count": 61,
   "metadata": {},
   "outputs": [],
   "source": [
    "# ******* Layout *******\n",
    "app.layout = html.Div([\n",
    "    html.H5('Cidades:'),\n",
    "    dcc.Checklist(\n",
    "        df_data['City'].value_counts().index,\n",
    "        df_data['City'].value_counts().index,\n",
    "        id='check_city'),\n",
    "    \n",
    "    html.H5('Variáveis de análise:'),\n",
    "    dcc.RadioItems(\n",
    "        ['gross income', 'Rating'],\n",
    "        'gross income',\n",
    "        id='main_variable'),        \n",
    "    \n",
    "    dcc.Graph(id='city_fig'),\n",
    "    dcc.Graph(id='pay_fig'),\n",
    "    dcc.Graph(id='income_per_product_fig'),\n",
    "])"
   ]
  },
  {
   "cell_type": "code",
   "execution_count": 62,
   "metadata": {},
   "outputs": [],
   "source": [
    "# ******* Callbacks *******\n",
    "@app.callback([\n",
    "    Output('city_fig', 'figure'),\n",
    "    Output('pay_fig', 'figure'),\n",
    "    Output('income_per_product_fig', 'figure')\n",
    "],\n",
    "[\n",
    "    Input('check_city', 'value'),\n",
    "    Input('main_variable', 'value'),\n",
    "])\n",
    "def render_graphs(cities, main_variable):\n",
    "    operation = np.sum if main_variable == 'gross income' else np.mean\n",
    "    df_filtered = df_data[df_data['City'].isin(cities)]\n",
    "    df_city = df_filtered.groupby('City')[main_variable].apply(operation).to_frame().reset_index()\n",
    "    df_payment = df_filtered.groupby('Payment')[main_variable].apply(operation).to_frame().reset_index()\n",
    "    df_product_income = df_filtered.groupby(['Product line', 'City'])[main_variable].apply(operation).to_frame().reset_index()\n",
    "    \n",
    "    fig_city = px.bar(df_city, x='City', y=main_variable)\n",
    "    fig_payment = px.bar(df_payment, x=main_variable, y='Payment', orientation='h')\n",
    "    fig_product_income = px.bar(df_product_income, x=main_variable, y='Product line', color='City', orientation='h', barmode='group')\n",
    "\n",
    "    fig_city.update_layout(margin=dict(l=0, r=0, t=20, b=20), height=200)\n",
    "    fig_payment.update_layout(margin=dict(l=0, r=0, t=20, b=20), height=200)\n",
    "    fig_product_income.update_layout(margin=dict(l=0, r=0, t=20, b=20), height=500)\n",
    "\n",
    "    return fig_city, fig_payment, fig_product_income\n"
   ]
  },
  {
   "cell_type": "code",
   "execution_count": 63,
   "metadata": {},
   "outputs": [
    {
     "data": {
      "text/html": [
       "\n",
       "        <iframe\n",
       "            width=\"100%\"\n",
       "            height=\"650\"\n",
       "            src=\"http://127.0.0.1:8050/\"\n",
       "            frameborder=\"0\"\n",
       "            allowfullscreen\n",
       "            \n",
       "        ></iframe>\n",
       "        "
      ],
      "text/plain": [
       "<IPython.lib.display.IFrame at 0x1318ea60c80>"
      ]
     },
     "metadata": {},
     "output_type": "display_data"
    }
   ],
   "source": [
    "\n",
    "if __name__ == '__main__':\n",
    "    app.run_server(port=8050, debug=True)"
   ]
  }
 ],
 "metadata": {
  "kernelspec": {
   "display_name": "Python 3",
   "language": "python",
   "name": "python3"
  },
  "language_info": {
   "codemirror_mode": {
    "name": "ipython",
    "version": 3
   },
   "file_extension": ".py",
   "mimetype": "text/x-python",
   "name": "python",
   "nbconvert_exporter": "python",
   "pygments_lexer": "ipython3",
   "version": "3.12.1"
  }
 },
 "nbformat": 4,
 "nbformat_minor": 2
}
