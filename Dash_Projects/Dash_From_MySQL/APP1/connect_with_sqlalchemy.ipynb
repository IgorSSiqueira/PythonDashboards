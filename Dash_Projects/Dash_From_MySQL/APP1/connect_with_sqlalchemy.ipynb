{
 "cells": [
  {
   "cell_type": "markdown",
   "metadata": {},
   "source": [
    "In this code, I'll get the select result and make a .CSV    "
   ]
  },
  {
   "cell_type": "code",
   "execution_count": 8,
   "metadata": {},
   "outputs": [],
   "source": [
    "import pandas as pd\n",
    "from sqlalchemy import create_engine\n",
    "\n",
    "make_csv:\n",
    "    server = 'DESKTOP-UH0CSR8\\\\SQLEXPRESS'\n",
    "    database = 'DB_Teste'\n",
    "\n",
    "    connection_string = f'mssql+pyodbc://{server}/{database}?driver=ODBC+Driver+17+for+SQL+Server'\n",
    "\n",
    "    engine = create_engine(connection_string)\n",
    "\n",
    "    query = \"\"\"\n",
    "        SELECT \n",
    "            emp.Codigo_Empresas,\n",
    "            pd.Codigo_Cliente,\n",
    "            pd.Estado_Entrega_Cliente,\n",
    "            ven.Codigo_Vendedores,\n",
    "            pd.Pedido,\n",
    "            it.produto,\n",
    "            pro.Descr_Tabela,\n",
    "            it.qtde,\n",
    "            it.Vr_Unitario,\n",
    "            it.Vr_Total,\n",
    "            pd.Data_Pedido,\n",
    "            pd.Data_Entrega,\n",
    "            pd.Status_Pedido,\n",
    "            pd.Tipo_Pedido_Desc\n",
    "        FROM vw_cfc_pedido pd\n",
    "        LEFT JOIN Cfc_Itens_Pedido it ON pd.pedido = it.pedido AND pd.empresa = it.empresa\n",
    "        LEFT JOIN Cfc_Produtos pro ON it.Produto = pro.Codigo\n",
    "        LEFT JOIN Empresas emp ON pd.Empresa = emp.Codigo_Empresas\n",
    "        LEFT JOIN Rec_Vendedores ven ON pd.Nome_Vendedores = ven.Nome_Vendedores\n",
    "        WHERE it.produto IS NOT NULL\n",
    "        AND ven.Codigo_Vendedores IS NOT NULL\n",
    "        AND pro.Descr_Tabela IS NOT NULL\n",
    "        AND pd.Data_Entrega IS NOT NULL\n",
    "    \"\"\"\n",
    "\n",
    "    df = pd.read_sql(query, engine)\n",
    "\n",
    "    engine.dispose()\n",
    "\n",
    "    df.to_csv('base.csv')\n",
    "    df = pd.read_csv('base.csv')\n",
    "\n",
    "    df['Data_Pedido'] = pd.to_datetime(df['Data_Pedido'])\n",
    "    df['Data_Entrega'] = pd.to_datetime(df['Data_Entrega'])\n",
    "\n",
    "    df['Mes_Ano_Pedido'] = df['Data_Pedido'].apply(lambda x: '{:02d}'.format(x.month)) + df['Data_Pedido'].apply(lambda x: '/{:04d}'.format(x.year))\n",
    "    df['Mes_Ano_Entrega'] = df['Data_Entrega'].apply(lambda x: '{:02d}'.format(x.month)) + df['Data_Entrega'].apply(lambda x: '/{:04d}'.format(x.year))\n"
   ]
  }
 ],
 "metadata": {
  "kernelspec": {
   "display_name": "Python 3",
   "language": "python",
   "name": "python3"
  },
  "language_info": {
   "codemirror_mode": {
    "name": "ipython",
    "version": 3
   },
   "file_extension": ".py",
   "mimetype": "text/x-python",
   "name": "python",
   "nbconvert_exporter": "python",
   "pygments_lexer": "ipython3",
   "version": "3.12.1"
  }
 },
 "nbformat": 4,
 "nbformat_minor": 2
}
