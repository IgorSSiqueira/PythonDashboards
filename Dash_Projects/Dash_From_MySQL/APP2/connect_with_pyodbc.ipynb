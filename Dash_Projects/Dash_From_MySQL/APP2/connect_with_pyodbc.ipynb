{
 "cells": [
  {
   "cell_type": "code",
   "execution_count": 1,
   "metadata": {},
   "outputs": [],
   "source": [
    "import dash\n",
    "from dash import html, dcc\n",
    "from dash.dependencies import Input, Output, State\n",
    "import dash_bootstrap_components as dbc\n",
    "import pandas as pd\n",
    "import pyodbc\n",
    "\n",
    "app = dash.Dash(external_stylesheets=[dbc.themes.BOOTSTRAP])\n",
    "server = app.server"
   ]
  },
  {
   "cell_type": "code",
   "execution_count": 9,
   "metadata": {},
   "outputs": [
    {
     "name": "stdout",
     "output_type": "stream",
     "text": [
      "<pyodbc.Connection object at 0x000001EB1E776800>\n"
     ]
    }
   ],
   "source": [
    "server = 'DESKTOP-UH0CSR8\\\\SQLEXPRESS'\n",
    "database = 'DB_Teste'\n",
    "\n",
    "connection_string = f'DRIVER={{SQL Server}}; SERVER={server}; DATABASE={database}; Trusted_Connection=yes'\n",
    "connection = pyodbc.connect(connection_string)\n",
    "\n",
    "print(connection)"
   ]
  },
  {
   "cell_type": "code",
   "execution_count": 10,
   "metadata": {},
   "outputs": [
    {
     "name": "stderr",
     "output_type": "stream",
     "text": [
      "C:\\Users\\IgorSiqueira\\AppData\\Local\\Temp\\ipykernel_16124\\3673500127.py:31: UserWarning:\n",
      "\n",
      "pandas only supports SQLAlchemy connectable (engine/connection) or database string URI or sqlite3 DBAPI2 connection. Other DBAPI2 objects are not tested. Please consider using SQLAlchemy.\n",
      "\n"
     ]
    }
   ],
   "source": [
    "query = \"\"\"\n",
    "    SELECT \n",
    "        --emp.Razao_Social_Empresas,\n",
    "\t\temp.Codigo_Empresas,\n",
    "        pd.Codigo_Cliente,\n",
    "        --pd.Razao_Nome_Cliente,\n",
    "        pd.Estado_Entrega_Cliente,\n",
    "        pd.Pedido,\n",
    "        it.produto,\n",
    "        pro.Descr_Tabela,\n",
    "        it.qtde,\n",
    "        it.Vr_Unitario,\n",
    "        it.Vr_Total,\n",
    "        pd.Data_Pedido,\n",
    "        pd.Data_Entrega,\n",
    "        pd.Status_Pedido,\n",
    "\t\t--ven.Codigo_Vendedores,\n",
    "        pd.Nome_Vendedores,\n",
    "        pd.Tipo_Pedido_Desc\n",
    "    FROM vw_cfc_pedido pd\n",
    "    LEFT JOIN Cfc_Itens_Pedido it ON pd.pedido = it.pedido AND pd.empresa = it.empresa\n",
    "    LEFT JOIN Cfc_Produtos pro ON it.Produto = pro.Codigo\n",
    "    LEFT JOIN Empresas emp ON pd.Empresa = emp.Codigo_Empresas\n",
    "\tLEFT JOIN Rec_Vendedores ven ON pd.Nome_Vendedores = ven.Nome_Vendedores\n",
    "    WHERE it.produto IS NOT NULL\n",
    "\t  AND ven.Codigo_Vendedores IS NOT NULL\n",
    "\t  AND pro.Descr_Tabela IS NOT NULL\n",
    "\t  AND pd.Data_Entrega IS NOT NULL\n",
    "\"\"\"\n",
    "\n",
    "df = pd.read_sql(query, connection)"
   ]
  },
  {
   "cell_type": "code",
   "execution_count": null,
   "metadata": {},
   "outputs": [],
   "source": [
    "app = dash.Dash(external_stylesheets=[dbc.themes.BOOTSTRAP])\n",
    "server = app.server"
   ]
  },
  {
   "cell_type": "code",
   "execution_count": null,
   "metadata": {},
   "outputs": [],
   "source": [
    "app.layout = html.Div([\n",
    "    \n",
    "])"
   ]
  },
  {
   "cell_type": "code",
   "execution_count": null,
   "metadata": {},
   "outputs": [],
   "source": [
    "if __name__ == '__main__':\n",
    "    app.run_server(debug=True)"
   ]
  }
 ],
 "metadata": {
  "kernelspec": {
   "display_name": "Python 3",
   "language": "python",
   "name": "python3"
  },
  "language_info": {
   "codemirror_mode": {
    "name": "ipython",
    "version": 3
   },
   "file_extension": ".py",
   "mimetype": "text/x-python",
   "name": "python",
   "nbconvert_exporter": "python",
   "pygments_lexer": "ipython3",
   "version": "3.12.1"
  }
 },
 "nbformat": 4,
 "nbformat_minor": 2
}
