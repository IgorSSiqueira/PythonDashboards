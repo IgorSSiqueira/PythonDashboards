{
 "cells": [
  {
   "cell_type": "markdown",
   "id": "eb29fb7a-5c3a-46df-a5f9-627148c66351",
   "metadata": {},
   "source": [
    "## Exercícios"
   ]
  },
  {
   "cell_type": "markdown",
   "id": "ad2f7eba-5091-4fec-b113-487186883a09",
   "metadata": {},
   "source": [
    "Link para Dataset: https://www.kaggle.com/datasets/matheusfreitag/gas-prices-in-brazil"
   ]
  },
  {
   "cell_type": "code",
   "execution_count": 78,
   "id": "d0e9c6b9-3840-47a5-956f-9954b612c657",
   "metadata": {},
   "outputs": [],
   "source": [
    "import pandas as pd"
   ]
  },
  {
   "cell_type": "markdown",
   "id": "76366baf-6608-4ad2-b14b-ff048e5adb90",
   "metadata": {},
   "source": [
    "## Neste projeto, trabalharemos com dois arquivos csvs separados, contendo informações sobre o preço da gasolina no Brasil. \n",
    "\n",
    "### 1. Carregue os conjuntos de dados \"gasolina_2000+.csv\" e \"gasolina_2010+.csv\" em dois DataFrames diferentes e combine-os em um único DataFrame."
   ]
  },
  {
   "cell_type": "code",
   "execution_count": 79,
   "id": "c7decfae-2c39-48fb-8412-6dd2e789f28e",
   "metadata": {},
   "outputs": [
    {
     "name": "stderr",
     "output_type": "stream",
     "text": [
      "C:\\Users\\IgorSiqueira\\AppData\\Local\\Temp\\ipykernel_20412\\87090878.py:2: DtypeWarning: Columns (12,14,15,16,17,18) have mixed types. Specify dtype option on import or set low_memory=False.\n",
      "  df2 = pd.read_csv('gasolina_2010+.csv', index_col=0)\n"
     ]
    }
   ],
   "source": [
    "df1 = pd.read_csv('gasolina_2000+.csv', index_col=0)\n",
    "df2 = pd.read_csv('gasolina_2010+.csv', index_col=0)\n",
    "df = pd.concat([df1, df2])"
   ]
  },
  {
   "cell_type": "markdown",
   "id": "6cd74f39-565b-47ea-9171-9679eb964b1c",
   "metadata": {},
   "source": [
    "### 2.Investigue as colunas e entenda o conjunto de dados usando o head() e info()"
   ]
  },
  {
   "cell_type": "code",
   "execution_count": 80,
   "id": "079e63b5-4836-4332-86ee-11c804543571",
   "metadata": {},
   "outputs": [
    {
     "name": "stdout",
     "output_type": "stream",
     "text": [
      "<class 'pandas.core.frame.DataFrame'>\n",
      "Index: 120823 entries, 0 to 120822\n",
      "Data columns (total 18 columns):\n",
      " #   Column                         Non-Null Count   Dtype  \n",
      "---  ------                         --------------   -----  \n",
      " 0   DATA INICIAL                   120823 non-null  object \n",
      " 1   DATA FINAL                     120823 non-null  object \n",
      " 2   REGIÃO                         120823 non-null  object \n",
      " 3   ESTADO                         120823 non-null  object \n",
      " 4   PRODUTO                        120823 non-null  object \n",
      " 5   NÚMERO DE POSTOS PESQUISADOS   120823 non-null  int64  \n",
      " 6   UNIDADE DE MEDIDA              120823 non-null  object \n",
      " 7   PREÇO MÉDIO REVENDA            120823 non-null  float64\n",
      " 8   DESVIO PADRÃO REVENDA          120823 non-null  float64\n",
      " 9   PREÇO MÍNIMO REVENDA           120823 non-null  float64\n",
      " 10  PREÇO MÁXIMO REVENDA           120823 non-null  float64\n",
      " 11  MARGEM MÉDIA REVENDA           120823 non-null  object \n",
      " 12  COEF DE VARIAÇÃO REVENDA       120823 non-null  float64\n",
      " 13  PREÇO MÉDIO DISTRIBUIÇÃO       120823 non-null  object \n",
      " 14  DESVIO PADRÃO DISTRIBUIÇÃO     120823 non-null  object \n",
      " 15  PREÇO MÍNIMO DISTRIBUIÇÃO      120823 non-null  object \n",
      " 16  PREÇO MÁXIMO DISTRIBUIÇÃO      120823 non-null  object \n",
      " 17  COEF DE VARIAÇÃO DISTRIBUIÇÃO  120823 non-null  object \n",
      "dtypes: float64(5), int64(1), object(12)\n",
      "memory usage: 17.5+ MB\n"
     ]
    }
   ],
   "source": [
    "# df.head()\n",
    "df.info()"
   ]
  },
  {
   "cell_type": "markdown",
   "id": "2bcb2d2f-1c32-4583-8981-ca5b6ed0e048",
   "metadata": {},
   "source": [
    "### 3. Selecione a terceira entrada da coluna DATA INICIAL e verifique seu tipo."
   ]
  },
  {
   "cell_type": "code",
   "execution_count": 81,
   "id": "c4399a8c-0ad3-4b6e-bcd8-d701438892fe",
   "metadata": {},
   "outputs": [
    {
     "data": {
      "text/plain": [
       "str"
      ]
     },
     "execution_count": 81,
     "metadata": {},
     "output_type": "execute_result"
    }
   ],
   "source": [
    "type(df['DATA INICIAL'][2])\n"
   ]
  },
  {
   "cell_type": "markdown",
   "id": "7eda8c87-eef7-4b66-97ee-46629b214fc7",
   "metadata": {},
   "source": [
    "### 4. Você deve ter percebido que as colunas DATA INICIAL e DATA FINAL estão formatadas como string. Utilizando o método pd.to_datetime(), converta ambas colunas para Timestamp / Datetime."
   ]
  },
  {
   "cell_type": "code",
   "execution_count": 82,
   "id": "6813ae62-bdd0-4f73-8278-7fa0e0027f9c",
   "metadata": {},
   "outputs": [],
   "source": [
    "df['DATA INICIAL'] = pd.to_datetime(df['DATA INICIAL'])\n",
    "df['DATA FINAL'] = pd.to_datetime(df['DATA FINAL'])"
   ]
  },
  {
   "cell_type": "markdown",
   "id": "2f9aaafa-f9a4-4f07-9bc6-86e5911c863c",
   "metadata": {},
   "source": [
    "### 5. Crie uma nova coluna para representar o ano e o mês(aaaa-mm), utilizando a coluna DATA FINAL como referência. "
   ]
  },
  {
   "cell_type": "code",
   "execution_count": 83,
   "id": "03f15a92-bae5-4256-add1-a7c97fe9f01d",
   "metadata": {},
   "outputs": [],
   "source": [
    "df['ANO-MES'] = df['DATA FINAL'].apply(lambda x: '{}'.format(x.year)) + df['DATA FINAL'].apply(lambda x: '/{:02d}'.format(x.month))"
   ]
  },
  {
   "cell_type": "markdown",
   "id": "7d25e880-b153-4cce-8268-8388c3de52a3",
   "metadata": {},
   "source": [
    "### 6. Utilizando o value_counts(), liste todos os tipos de produtos contidos na base de dados."
   ]
  },
  {
   "cell_type": "code",
   "execution_count": 84,
   "id": "f953fa16-59bd-40d9-90c0-af138acb4191",
   "metadata": {},
   "outputs": [
    {
     "data": {
      "text/plain": [
       "Index(['DATA INICIAL', 'DATA FINAL', 'REGIÃO', 'ESTADO', 'PRODUTO',\n",
       "       'NÚMERO DE POSTOS PESQUISADOS', 'UNIDADE DE MEDIDA',\n",
       "       'PREÇO MÉDIO REVENDA', 'DESVIO PADRÃO REVENDA', 'PREÇO MÍNIMO REVENDA',\n",
       "       'PREÇO MÁXIMO REVENDA', 'MARGEM MÉDIA REVENDA',\n",
       "       'COEF DE VARIAÇÃO REVENDA', 'PREÇO MÉDIO DISTRIBUIÇÃO',\n",
       "       'DESVIO PADRÃO DISTRIBUIÇÃO', 'PREÇO MÍNIMO DISTRIBUIÇÃO',\n",
       "       'PREÇO MÁXIMO DISTRIBUIÇÃO', 'COEF DE VARIAÇÃO DISTRIBUIÇÃO',\n",
       "       'ANO-MES'],\n",
       "      dtype='object')"
      ]
     },
     "execution_count": 84,
     "metadata": {},
     "output_type": "execute_result"
    }
   ],
   "source": [
    "df.columns"
   ]
  },
  {
   "cell_type": "code",
   "execution_count": 85,
   "id": "3cf82d6f",
   "metadata": {},
   "outputs": [
    {
     "data": {
      "text/plain": [
       "PRODUTO\n",
       "GASOLINA COMUM        23570\n",
       "GLP                   23561\n",
       "ETANOL HIDRATADO      23440\n",
       "ÓLEO DIESEL           21194\n",
       "GNV                   14469\n",
       "ÓLEO DIESEL S10        9113\n",
       "OLEO DIESEL S10        2376\n",
       "OLEO DIESEL            2351\n",
       "GASOLINA ADITIVADA      749\n",
       "Name: count, dtype: int64"
      ]
     },
     "execution_count": 85,
     "metadata": {},
     "output_type": "execute_result"
    }
   ],
   "source": [
    "df['PRODUTO'].value_counts()"
   ]
  },
  {
   "cell_type": "markdown",
   "id": "fab0300f-7c49-48be-b95a-948601713229",
   "metadata": {},
   "source": [
    "### 7. Filtre o DataFrame para obter apenas dados da 'GASOLINA COMUM'. Grave em uma nova variável."
   ]
  },
  {
   "cell_type": "code",
   "execution_count": 86,
   "id": "6f1a53ad-2f8e-48b3-b1f3-05698caec5a7",
   "metadata": {},
   "outputs": [],
   "source": [
    "df_gascomum = df[df['PRODUTO'] == 'GASOLINA COMUM']\n"
   ]
  },
  {
   "cell_type": "markdown",
   "id": "fb031b0b-51e7-43d7-b2cb-10da05019a73",
   "metadata": {},
   "source": [
    "### 8. Qual o preço médio de revenda da gasolina em agosto de 2008?"
   ]
  },
  {
   "cell_type": "code",
   "execution_count": 87,
   "id": "3ba34e10-cc51-4b04-b67a-4245248907ed",
   "metadata": {},
   "outputs": [
    {
     "data": {
      "text/plain": [
       "9.300789303079416"
      ]
     },
     "execution_count": 87,
     "metadata": {},
     "output_type": "execute_result"
    }
   ],
   "source": [
    "df[df['ANO-MES'] == '2008/08']['PREÇO MÉDIO REVENDA'].mean()\n"
   ]
  },
  {
   "cell_type": "markdown",
   "id": "a57428cc-e9e6-48f8-a7f7-27fb9c87bcde",
   "metadata": {},
   "source": [
    "### 9. Qual o preço médio de revenda da gasolina em maio de 2014 em São Paulo?"
   ]
  },
  {
   "cell_type": "code",
   "execution_count": 88,
   "id": "e981678b-85db-499a-8466-e24c455ea20c",
   "metadata": {},
   "outputs": [
    {
     "data": {
      "text/plain": [
       "8.920766666666669"
      ]
     },
     "execution_count": 88,
     "metadata": {},
     "output_type": "execute_result"
    }
   ],
   "source": [
    "df[(df['ANO-MES'] == '2014/05') & (df['ESTADO'] == 'SAO PAULO')]['PREÇO MÉDIO REVENDA'].mean()"
   ]
  },
  {
   "cell_type": "markdown",
   "id": "6ab2edd0-8bf7-49d7-b3e8-5535ec4a58cf",
   "metadata": {},
   "source": [
    "### 10. Você conseguiria descobrir em qual(quais) estado(s) a gasolina ultrapassou a barreira dos R$ 5,00? E quando isso ocorreu?"
   ]
  },
  {
   "cell_type": "code",
   "execution_count": 89,
   "id": "32a9045a-899c-4775-8b66-c0490f3e62a7",
   "metadata": {},
   "outputs": [
    {
     "data": {
      "text/html": [
       "<div>\n",
       "<style scoped>\n",
       "    .dataframe tbody tr th:only-of-type {\n",
       "        vertical-align: middle;\n",
       "    }\n",
       "\n",
       "    .dataframe tbody tr th {\n",
       "        vertical-align: top;\n",
       "    }\n",
       "\n",
       "    .dataframe thead th {\n",
       "        text-align: right;\n",
       "    }\n",
       "</style>\n",
       "<table border=\"1\" class=\"dataframe\">\n",
       "  <thead>\n",
       "    <tr style=\"text-align: right;\">\n",
       "      <th></th>\n",
       "      <th>ESTADO</th>\n",
       "      <th>ANO-MES</th>\n",
       "      <th>PREÇO MÉDIO REVENDA</th>\n",
       "    </tr>\n",
       "  </thead>\n",
       "  <tbody>\n",
       "    <tr>\n",
       "      <th>24132</th>\n",
       "      <td>DISTRITO FEDERAL</td>\n",
       "      <td>2004/05</td>\n",
       "      <td>33.989</td>\n",
       "    </tr>\n",
       "    <tr>\n",
       "      <th>24133</th>\n",
       "      <td>GOIAS</td>\n",
       "      <td>2004/05</td>\n",
       "      <td>30.335</td>\n",
       "    </tr>\n",
       "    <tr>\n",
       "      <th>24134</th>\n",
       "      <td>MATO GROSSO</td>\n",
       "      <td>2004/05</td>\n",
       "      <td>38.568</td>\n",
       "    </tr>\n",
       "    <tr>\n",
       "      <th>24135</th>\n",
       "      <td>MATO GROSSO DO SUL</td>\n",
       "      <td>2004/05</td>\n",
       "      <td>33.388</td>\n",
       "    </tr>\n",
       "    <tr>\n",
       "      <th>24136</th>\n",
       "      <td>ALAGOAS</td>\n",
       "      <td>2004/05</td>\n",
       "      <td>32.391</td>\n",
       "    </tr>\n",
       "    <tr>\n",
       "      <th>...</th>\n",
       "      <td>...</td>\n",
       "      <td>...</td>\n",
       "      <td>...</td>\n",
       "    </tr>\n",
       "    <tr>\n",
       "      <th>120750</th>\n",
       "      <td>SAO PAULO</td>\n",
       "      <td>2021/05</td>\n",
       "      <td>85.340</td>\n",
       "    </tr>\n",
       "    <tr>\n",
       "      <th>120751</th>\n",
       "      <td>SERGIPE</td>\n",
       "      <td>2021/05</td>\n",
       "      <td>83.508</td>\n",
       "    </tr>\n",
       "    <tr>\n",
       "      <th>120752</th>\n",
       "      <td>TOCANTINS</td>\n",
       "      <td>2021/05</td>\n",
       "      <td>93.867</td>\n",
       "    </tr>\n",
       "    <tr>\n",
       "      <th>120769</th>\n",
       "      <td>ACRE</td>\n",
       "      <td>2021/05</td>\n",
       "      <td>5.550</td>\n",
       "    </tr>\n",
       "    <tr>\n",
       "      <th>120796</th>\n",
       "      <td>ACRE</td>\n",
       "      <td>2021/05</td>\n",
       "      <td>5.209</td>\n",
       "    </tr>\n",
       "  </tbody>\n",
       "</table>\n",
       "<p>24304 rows × 3 columns</p>\n",
       "</div>"
      ],
      "text/plain": [
       "                    ESTADO  ANO-MES  PREÇO MÉDIO REVENDA\n",
       "24132     DISTRITO FEDERAL  2004/05               33.989\n",
       "24133                GOIAS  2004/05               30.335\n",
       "24134          MATO GROSSO  2004/05               38.568\n",
       "24135   MATO GROSSO DO SUL  2004/05               33.388\n",
       "24136              ALAGOAS  2004/05               32.391\n",
       "...                    ...      ...                  ...\n",
       "120750           SAO PAULO  2021/05               85.340\n",
       "120751             SERGIPE  2021/05               83.508\n",
       "120752           TOCANTINS  2021/05               93.867\n",
       "120769                ACRE  2021/05                5.550\n",
       "120796                ACRE  2021/05                5.209\n",
       "\n",
       "[24304 rows x 3 columns]"
      ]
     },
     "execution_count": 89,
     "metadata": {},
     "output_type": "execute_result"
    }
   ],
   "source": [
    "df[df['PREÇO MÉDIO REVENDA'] > 5][['ESTADO', 'ANO-MES', 'PREÇO MÉDIO REVENDA']]"
   ]
  },
  {
   "cell_type": "markdown",
   "id": "80f4c3a6-ba0e-43b0-a328-91c0aa04348c",
   "metadata": {},
   "source": [
    "### 11. Qual a média de preço dos estados da região sul em 2012?"
   ]
  },
  {
   "cell_type": "code",
   "execution_count": 90,
   "id": "e6bbbe89-3dc9-4264-ba31-2ce5aa76054b",
   "metadata": {},
   "outputs": [
    {
     "data": {
      "text/plain": [
       "9.842052564102564"
      ]
     },
     "execution_count": 90,
     "metadata": {},
     "output_type": "execute_result"
    }
   ],
   "source": [
    "df_aux = df[df['DATA FINAL'].apply(lambda x: x.year) == 2012]\n",
    "df_aux[df_aux['REGIÃO'] == 'SUL']['PREÇO MÉDIO REVENDA'].mean()"
   ]
  },
  {
   "cell_type": "markdown",
   "id": "28781cbf-0dba-4512-83df-87537e548c63",
   "metadata": {},
   "source": [
    "### 12. Você conseguiria obter uma tabela contendo a variação percentual ano a ano para o estado do Rio de Janeiro?"
   ]
  },
  {
   "cell_type": "code",
   "execution_count": 91,
   "id": "09d2d505-127b-47ff-8fe5-0c6170da3900",
   "metadata": {},
   "outputs": [],
   "source": [
    "df['MES'] = df['DATA FINAL'].apply(lambda x: x.month)\n",
    "df_rio = df[df['ESTADO'] == 'RIO DE JANEIRO']"
   ]
  },
  {
   "cell_type": "code",
   "execution_count": 92,
   "id": "169df40f",
   "metadata": {},
   "outputs": [],
   "source": [
    "df_month_rio = df_rio.groupby('ANO-MES')[['PREÇO MÉDIO REVENDA', 'MES']].last()"
   ]
  },
  {
   "cell_type": "code",
   "execution_count": 93,
   "id": "215333ed",
   "metadata": {},
   "outputs": [
    {
     "data": {
      "text/html": [
       "<div>\n",
       "<style scoped>\n",
       "    .dataframe tbody tr th:only-of-type {\n",
       "        vertical-align: middle;\n",
       "    }\n",
       "\n",
       "    .dataframe tbody tr th {\n",
       "        vertical-align: top;\n",
       "    }\n",
       "\n",
       "    .dataframe thead th {\n",
       "        text-align: right;\n",
       "    }\n",
       "</style>\n",
       "<table border=\"1\" class=\"dataframe\">\n",
       "  <thead>\n",
       "    <tr style=\"text-align: right;\">\n",
       "      <th></th>\n",
       "      <th>PREÇO MÉDIO REVENDA</th>\n",
       "      <th>MES</th>\n",
       "    </tr>\n",
       "    <tr>\n",
       "      <th>ANO-MES</th>\n",
       "      <th></th>\n",
       "      <th></th>\n",
       "    </tr>\n",
       "  </thead>\n",
       "  <tbody>\n",
       "    <tr>\n",
       "      <th>2004/12</th>\n",
       "      <td>NaN</td>\n",
       "      <td>NaN</td>\n",
       "    </tr>\n",
       "    <tr>\n",
       "      <th>2005/12</th>\n",
       "      <td>12.338063</td>\n",
       "      <td>0.0</td>\n",
       "    </tr>\n",
       "    <tr>\n",
       "      <th>2006/12</th>\n",
       "      <td>-0.878638</td>\n",
       "      <td>0.0</td>\n",
       "    </tr>\n",
       "    <tr>\n",
       "      <th>2007/12</th>\n",
       "      <td>0.720222</td>\n",
       "      <td>0.0</td>\n",
       "    </tr>\n",
       "    <tr>\n",
       "      <th>2008/12</th>\n",
       "      <td>14.466447</td>\n",
       "      <td>0.0</td>\n",
       "    </tr>\n",
       "    <tr>\n",
       "      <th>2009/12</th>\n",
       "      <td>-4.949543</td>\n",
       "      <td>0.0</td>\n",
       "    </tr>\n",
       "    <tr>\n",
       "      <th>2010/12</th>\n",
       "      <td>0.202224</td>\n",
       "      <td>0.0</td>\n",
       "    </tr>\n",
       "    <tr>\n",
       "      <th>2011/12</th>\n",
       "      <td>1.261352</td>\n",
       "      <td>0.0</td>\n",
       "    </tr>\n",
       "    <tr>\n",
       "      <th>2012/12</th>\n",
       "      <td>5.630294</td>\n",
       "      <td>0.0</td>\n",
       "    </tr>\n",
       "    <tr>\n",
       "      <th>2013/12</th>\n",
       "      <td>-21.084906</td>\n",
       "      <td>0.0</td>\n",
       "    </tr>\n",
       "    <tr>\n",
       "      <th>2014/12</th>\n",
       "      <td>7.770472</td>\n",
       "      <td>0.0</td>\n",
       "    </tr>\n",
       "    <tr>\n",
       "      <th>2015/12</th>\n",
       "      <td>17.304493</td>\n",
       "      <td>0.0</td>\n",
       "    </tr>\n",
       "    <tr>\n",
       "      <th>2016/12</th>\n",
       "      <td>-2.269504</td>\n",
       "      <td>0.0</td>\n",
       "    </tr>\n",
       "    <tr>\n",
       "      <th>2017/12</th>\n",
       "      <td>9.869376</td>\n",
       "      <td>0.0</td>\n",
       "    </tr>\n",
       "    <tr>\n",
       "      <th>2018/12</th>\n",
       "      <td>35.358873</td>\n",
       "      <td>0.0</td>\n",
       "    </tr>\n",
       "    <tr>\n",
       "      <th>2019/12</th>\n",
       "      <td>24.951204</td>\n",
       "      <td>0.0</td>\n",
       "    </tr>\n",
       "    <tr>\n",
       "      <th>2020/12</th>\n",
       "      <td>-1.483989</td>\n",
       "      <td>0.0</td>\n",
       "    </tr>\n",
       "  </tbody>\n",
       "</table>\n",
       "</div>"
      ],
      "text/plain": [
       "         PREÇO MÉDIO REVENDA  MES\n",
       "ANO-MES                          \n",
       "2004/12                  NaN  NaN\n",
       "2005/12            12.338063  0.0\n",
       "2006/12            -0.878638  0.0\n",
       "2007/12             0.720222  0.0\n",
       "2008/12            14.466447  0.0\n",
       "2009/12            -4.949543  0.0\n",
       "2010/12             0.202224  0.0\n",
       "2011/12             1.261352  0.0\n",
       "2012/12             5.630294  0.0\n",
       "2013/12           -21.084906  0.0\n",
       "2014/12             7.770472  0.0\n",
       "2015/12            17.304493  0.0\n",
       "2016/12            -2.269504  0.0\n",
       "2017/12             9.869376  0.0\n",
       "2018/12            35.358873  0.0\n",
       "2019/12            24.951204  0.0\n",
       "2020/12            -1.483989  0.0"
      ]
     },
     "execution_count": 93,
     "metadata": {},
     "output_type": "execute_result"
    }
   ],
   "source": [
    "(df_month_rio[df_month_rio['MES'] == 12] / df_month_rio[df_month_rio['MES'] == 12].shift(1) - 1) * 100"
   ]
  }
 ],
 "metadata": {
  "kernelspec": {
   "display_name": "Python 3 (ipykernel)",
   "language": "python",
   "name": "python3"
  },
  "language_info": {
   "codemirror_mode": {
    "name": "ipython",
    "version": 3
   },
   "file_extension": ".py",
   "mimetype": "text/x-python",
   "name": "python",
   "nbconvert_exporter": "python",
   "pygments_lexer": "ipython3",
   "version": "3.12.1"
  }
 },
 "nbformat": 4,
 "nbformat_minor": 5
}
